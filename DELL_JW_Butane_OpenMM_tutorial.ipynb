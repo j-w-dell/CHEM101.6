{
  "nbformat": 4,
  "nbformat_minor": 0,
  "metadata": {
    "accelerator": "GPU",
    "colab": {
      "name": "DELL_JW_Butane_OpenMM_tutorial",
      "provenance": [],
      "collapsed_sections": []
    },
    "kernelspec": {
      "display_name": "Python 3",
      "name": "python3"
    },
    "widgets": {
      "application/vnd.jupyter.widget-state+json": {
        "0ac6269e311b44b6a79e8182a887466d": {
          "model_module": "nglview-js-widgets",
          "model_name": "ColormakerRegistryModel",
          "model_module_version": "3.0.1",
          "state": {
            "_view_name": "ColormakerRegistryView",
            "_dom_classes": [],
            "_model_name": "ColormakerRegistryModel",
            "_msg_q": [],
            "_view_module": "nglview-js-widgets",
            "_model_module_version": "3.0.1",
            "_msg_ar": [],
            "_ready": true,
            "_view_module_version": "3.0.1",
            "_view_count": null,
            "_model_module": "nglview-js-widgets",
            "layout": "IPY_MODEL_ffbbc134e71c415aafe17f5c5efe7d5d"
          }
        },
        "ffbbc134e71c415aafe17f5c5efe7d5d": {
          "model_module": "@jupyter-widgets/base",
          "model_name": "LayoutModel",
          "model_module_version": "1.2.0",
          "state": {
            "_view_name": "LayoutView",
            "grid_template_rows": null,
            "right": null,
            "justify_content": null,
            "_view_module": "@jupyter-widgets/base",
            "overflow": null,
            "_model_module_version": "1.2.0",
            "_view_count": null,
            "flex_flow": null,
            "width": null,
            "min_width": null,
            "border": null,
            "align_items": null,
            "bottom": null,
            "_model_module": "@jupyter-widgets/base",
            "top": null,
            "grid_column": null,
            "overflow_y": null,
            "overflow_x": null,
            "grid_auto_flow": null,
            "grid_area": null,
            "grid_template_columns": null,
            "flex": null,
            "_model_name": "LayoutModel",
            "justify_items": null,
            "grid_row": null,
            "max_height": null,
            "align_content": null,
            "visibility": null,
            "align_self": null,
            "height": null,
            "min_height": null,
            "padding": null,
            "grid_auto_rows": null,
            "grid_gap": null,
            "max_width": null,
            "order": null,
            "_view_module_version": "1.2.0",
            "grid_template_areas": null,
            "object_position": null,
            "object_fit": null,
            "grid_auto_columns": null,
            "margin": null,
            "display": null,
            "left": null
          }
        },
        "3706e969344d41bca8979b82edfa8dce": {
          "model_module": "nglview-js-widgets",
          "model_name": "NGLModel",
          "model_module_version": "3.0.1",
          "state": {
            "_view_name": "NGLView",
            "_scene_rotation": {},
            "_ngl_view_id": [
              "3525FB24-8716-4B81-9E08-E3D114047579"
            ],
            "_synced_model_ids": [],
            "_camera_orientation": [
              -3.9253803568351913,
              -18.220838382830863,
              -3.8094144235504426,
              0,
              13.64249364788533,
              -0.167220512906977,
              -13.257963830728132,
              0,
              12.664634092266605,
              -5.467383880453633,
              13.10091437198835,
              0,
              4.016499876976013,
              -3.440999925136566,
              2.596000015735626,
              1
            ],
            "frame": 0,
            "_view_module": "nglview-js-widgets",
            "_ibtn_fullscreen": "IPY_MODEL_8bc1e4029aac43558a40a230958ac03e",
            "_camera_str": "orthographic",
            "_ngl_serialize": false,
            "picked": {},
            "_model_module": "nglview-js-widgets",
            "_igui": null,
            "_iplayer": "IPY_MODEL_dc2bbb7c87bb4ae19803e0d36b2e9015",
            "layout": "IPY_MODEL_837d4699e9ec45be857ff0695977fb1a",
            "_view_width": "",
            "_ngl_coordinate_resource": {},
            "_view_module_version": "3.0.1",
            "_player_dict": {},
            "_synced_repr_model_ids": [],
            "_ngl_version": "2.0.0-dev.36",
            "max_frame": 99999,
            "_dom_classes": [],
            "_model_name": "NGLModel",
            "_scene_position": {},
            "_model_module_version": "3.0.1",
            "gui_style": null,
            "background": "white",
            "_view_count": null,
            "_view_height": "",
            "_ngl_repr_dict": {
              "0": {
                "0": {
                  "type": "ball+stick",
                  "params": {
                    "clipCenter": {
                      "y": 0,
                      "x": 0,
                      "z": 0
                    },
                    "cylinderOnly": false,
                    "radiusScale": 2,
                    "metalness": 0,
                    "visible": true,
                    "radiusData": {},
                    "linewidth": 2,
                    "quality": "high",
                    "depthWrite": true,
                    "openEnded": true,
                    "disablePicking": false,
                    "radiusType": "size",
                    "sele": "",
                    "wireframe": false,
                    "lineOnly": false,
                    "colorReverse": false,
                    "roughness": 0.4,
                    "flatShaded": false,
                    "bondScale": 0.3,
                    "clipNear": 0,
                    "useInteriorColor": true,
                    "opacity": 1,
                    "lazy": false,
                    "multipleBond": "off",
                    "assembly": "default",
                    "disableImpostor": false,
                    "colorScale": "",
                    "bondSpacing": 0.75,
                    "interiorColor": 2236962,
                    "clipRadius": 0,
                    "radiusSize": 0.15,
                    "colorScheme": "element",
                    "diffuse": 16777215,
                    "matrix": {
                      "elements": [
                        1,
                        0,
                        0,
                        0,
                        0,
                        1,
                        0,
                        0,
                        0,
                        0,
                        1,
                        0,
                        0,
                        0,
                        0,
                        1
                      ]
                    },
                    "defaultAssembly": "",
                    "radialSegments": 20,
                    "diffuseInterior": false,
                    "colorMode": "hcl",
                    "sphereDetail": 2,
                    "interiorDarkening": 0,
                    "aspectRatio": 1.5,
                    "side": "double",
                    "colorValue": 9474192
                  }
                }
              },
              "1": {
                "0": {
                  "type": "ball+stick",
                  "params": {
                    "clipCenter": {
                      "y": 0,
                      "x": 0,
                      "z": 0
                    },
                    "cylinderOnly": false,
                    "radiusScale": 2,
                    "metalness": 0,
                    "visible": true,
                    "radiusData": {},
                    "linewidth": 2,
                    "quality": "high",
                    "depthWrite": true,
                    "openEnded": true,
                    "disablePicking": false,
                    "radiusType": "size",
                    "sele": "",
                    "wireframe": false,
                    "lineOnly": false,
                    "colorReverse": false,
                    "roughness": 0.4,
                    "flatShaded": false,
                    "bondScale": 0.3,
                    "clipNear": 0,
                    "useInteriorColor": true,
                    "opacity": 1,
                    "lazy": false,
                    "multipleBond": "off",
                    "assembly": "default",
                    "disableImpostor": false,
                    "colorScale": "",
                    "bondSpacing": 0.75,
                    "interiorColor": 2236962,
                    "clipRadius": 0,
                    "radiusSize": 0.15,
                    "colorScheme": "element",
                    "diffuse": 16777215,
                    "matrix": {
                      "elements": [
                        1,
                        0,
                        0,
                        0,
                        0,
                        1,
                        0,
                        0,
                        0,
                        0,
                        1,
                        0,
                        0,
                        0,
                        0,
                        1
                      ]
                    },
                    "defaultAssembly": "",
                    "radialSegments": 20,
                    "diffuseInterior": false,
                    "colorMode": "hcl",
                    "sphereDetail": 2,
                    "interiorDarkening": 0,
                    "aspectRatio": 1.5,
                    "side": "double",
                    "colorValue": 9474192
                  }
                }
              }
            },
            "_ngl_original_stage_parameters": {
              "impostor": true,
              "quality": "medium",
              "workerDefault": true,
              "sampleLevel": 0,
              "backgroundColor": "white",
              "rotateSpeed": 2,
              "zoomSpeed": 1.2,
              "panSpeed": 1,
              "clipNear": 0,
              "clipFar": 100,
              "clipDist": 10,
              "fogNear": 50,
              "fogFar": 100,
              "cameraFov": 40,
              "cameraEyeSep": 0.3,
              "cameraType": "perspective",
              "lightColor": 14540253,
              "lightIntensity": 1,
              "ambientColor": 14540253,
              "ambientIntensity": 0.2,
              "hoverTimeout": 0,
              "tooltip": true,
              "mousePreset": "default"
            },
            "_ngl_full_stage_parameters": {
              "impostor": true,
              "quality": "medium",
              "workerDefault": true,
              "sampleLevel": 0,
              "backgroundColor": "white",
              "rotateSpeed": 2,
              "zoomSpeed": 1.2,
              "panSpeed": 1,
              "clipNear": 0,
              "clipFar": 100,
              "clipDist": 10,
              "fogNear": 50,
              "fogFar": 100,
              "cameraFov": 40,
              "cameraEyeSep": 0.3,
              "cameraType": "perspective",
              "lightColor": 14540253,
              "lightIntensity": 1,
              "ambientColor": 14540253,
              "ambientIntensity": 0.2,
              "hoverTimeout": 0,
              "tooltip": true,
              "mousePreset": "default"
            },
            "n_components": 2,
            "_ngl_color_dict": {},
            "_gui_theme": null,
            "_ngl_msg_archive": [
              {
                "reconstruc_color_scheme": false,
                "methodName": "loadFile",
                "target": "Stage",
                "args": [
                  {
                    "data": "MODEL        0\nATOM      1  C1  NBU A   1      -5.365   4.646  -2.496  1.00  0.00           C  \nATOM      2  H11 NBU A   1      -4.955   5.660  -2.579  1.00  0.00           H  \nATOM      3  H12 NBU A   1      -6.220   4.588  -1.810  1.00  0.00           H  \nATOM      4  H13 NBU A   1      -5.780   4.346  -3.466  1.00  0.00           H  \nATOM      5  C2  NBU A   1      -4.307   3.619  -2.052  1.00  0.00           C  \nATOM      6  H21 NBU A   1      -4.801   2.644  -1.965  1.00  0.00           H  \nATOM      7  H22 NBU A   1      -3.892   3.951  -1.093  1.00  0.00           H  \nATOM      8  C3  NBU A   1      -3.321   3.412  -3.180  1.00  0.00           C  \nATOM      9  H31 NBU A   1      -2.497   4.073  -2.883  1.00  0.00           H  \nATOM     10  H32 NBU A   1      -3.765   3.813  -4.099  1.00  0.00           H  \nATOM     11  C4  NBU A   1      -2.826   1.948  -3.189  1.00  0.00           C  \nATOM     12  H41 NBU A   1      -2.789   1.673  -2.127  1.00  0.00           H  \nATOM     13  H42 NBU A   1      -1.813   1.892  -3.605  1.00  0.00           H  \nATOM     14  H43 NBU A   1      -3.458   1.222  -3.715  1.00  0.00           H  \nTER      15      NBU A   1\nENDMDL\nCONECT    1    4    5    2    3\nCONECT    2    1\nCONECT    3    1\nCONECT    4    1\nCONECT    5    1    7    8    6\nCONECT    6    5\nCONECT    7    5\nCONECT    8    5    9   11   10\nCONECT    9    8\nCONECT   10    8\nCONECT   11    8   12   13   14\nCONECT   12   11\nCONECT   13   11\nCONECT   14   11\nEND\n",
                    "type": "blob",
                    "binary": false
                  }
                ],
                "kwargs": {
                  "ext": "pdb",
                  "name": "nglview.adaptor.MDTrajTrajectory",
                  "defaultRepresentation": true
                },
                "type": "call_method"
              }
            ]
          }
        },
        "837d4699e9ec45be857ff0695977fb1a": {
          "model_module": "@jupyter-widgets/base",
          "model_name": "LayoutModel",
          "model_module_version": "1.2.0",
          "state": {
            "_view_name": "LayoutView",
            "grid_template_rows": null,
            "right": null,
            "justify_content": null,
            "_view_module": "@jupyter-widgets/base",
            "overflow": null,
            "_model_module_version": "1.2.0",
            "_view_count": null,
            "flex_flow": null,
            "width": null,
            "min_width": null,
            "border": null,
            "align_items": null,
            "bottom": null,
            "_model_module": "@jupyter-widgets/base",
            "top": null,
            "grid_column": null,
            "overflow_y": null,
            "overflow_x": null,
            "grid_auto_flow": null,
            "grid_area": null,
            "grid_template_columns": null,
            "flex": null,
            "_model_name": "LayoutModel",
            "justify_items": null,
            "grid_row": null,
            "max_height": null,
            "align_content": null,
            "visibility": null,
            "align_self": null,
            "height": null,
            "min_height": null,
            "padding": null,
            "grid_auto_rows": null,
            "grid_gap": null,
            "max_width": null,
            "order": null,
            "_view_module_version": "1.2.0",
            "grid_template_areas": null,
            "object_position": null,
            "object_fit": null,
            "grid_auto_columns": null,
            "margin": null,
            "display": null,
            "left": null
          }
        },
        "8bc1e4029aac43558a40a230958ac03e": {
          "model_module": "@jupyter-widgets/controls",
          "model_name": "ButtonModel",
          "model_module_version": "1.5.0",
          "state": {
            "_view_name": "ButtonView",
            "style": "IPY_MODEL_9c1a31fa4b0b4d8ab38cc85df2ef6027",
            "_dom_classes": [],
            "description": "",
            "_model_name": "ButtonModel",
            "button_style": "",
            "_view_module": "@jupyter-widgets/controls",
            "_model_module_version": "1.5.0",
            "tooltip": "",
            "_view_count": null,
            "disabled": false,
            "_view_module_version": "1.5.0",
            "layout": "IPY_MODEL_89828c55379f49509d9ad058dedb3c25",
            "_model_module": "@jupyter-widgets/controls",
            "icon": "compress"
          }
        },
        "dc2bbb7c87bb4ae19803e0d36b2e9015": {
          "model_module": "@jupyter-widgets/controls",
          "model_name": "HBoxModel",
          "model_module_version": "1.5.0",
          "state": {
            "_view_name": "HBoxView",
            "_dom_classes": [],
            "_model_name": "HBoxModel",
            "_view_module": "@jupyter-widgets/controls",
            "_model_module_version": "1.5.0",
            "_view_count": null,
            "_view_module_version": "1.5.0",
            "box_style": "",
            "layout": "IPY_MODEL_232b0f13edd647a39ff5f5c7539cc7bf",
            "_model_module": "@jupyter-widgets/controls",
            "children": [
              "IPY_MODEL_90fa8a80721c4e0e9e034b777d4f1d3f",
              "IPY_MODEL_8123eb21b8b0479fbccdc1ca87fb596e"
            ]
          }
        },
        "bfbf32d81e62491ab5a8ea8bb8f3075f": {
          "model_module": "@jupyter-widgets/controls",
          "model_name": "DescriptionStyleModel",
          "model_module_version": "1.5.0",
          "state": {
            "_view_name": "StyleView",
            "_model_name": "DescriptionStyleModel",
            "description_width": "",
            "_view_module": "@jupyter-widgets/base",
            "_model_module_version": "1.5.0",
            "_view_count": null,
            "_view_module_version": "1.2.0",
            "_model_module": "@jupyter-widgets/controls"
          }
        },
        "ec7424244ab94f1daef78b642185e635": {
          "model_module": "@jupyter-widgets/base",
          "model_name": "LayoutModel",
          "model_module_version": "1.2.0",
          "state": {
            "_view_name": "LayoutView",
            "grid_template_rows": null,
            "right": null,
            "justify_content": null,
            "_view_module": "@jupyter-widgets/base",
            "overflow": null,
            "_model_module_version": "1.2.0",
            "_view_count": null,
            "flex_flow": null,
            "width": null,
            "min_width": null,
            "border": null,
            "align_items": null,
            "bottom": null,
            "_model_module": "@jupyter-widgets/base",
            "top": null,
            "grid_column": null,
            "overflow_y": null,
            "overflow_x": null,
            "grid_auto_flow": null,
            "grid_area": null,
            "grid_template_columns": null,
            "flex": null,
            "_model_name": "LayoutModel",
            "justify_items": null,
            "grid_row": null,
            "max_height": null,
            "align_content": null,
            "visibility": null,
            "align_self": null,
            "height": null,
            "min_height": null,
            "padding": null,
            "grid_auto_rows": null,
            "grid_gap": null,
            "max_width": null,
            "order": null,
            "_view_module_version": "1.2.0",
            "grid_template_areas": null,
            "object_position": null,
            "object_fit": null,
            "grid_auto_columns": null,
            "margin": null,
            "display": null,
            "left": null
          }
        },
        "476c98f7ebea42a5a9204faf56366dd6": {
          "model_module": "@jupyter-widgets/controls",
          "model_name": "SliderStyleModel",
          "model_module_version": "1.5.0",
          "state": {
            "_view_name": "StyleView",
            "handle_color": null,
            "_model_name": "SliderStyleModel",
            "description_width": "",
            "_view_module": "@jupyter-widgets/base",
            "_model_module_version": "1.5.0",
            "_view_count": null,
            "_view_module_version": "1.2.0",
            "_model_module": "@jupyter-widgets/controls"
          }
        },
        "ceb70c509323452a981ac7e4bf3d6a3f": {
          "model_module": "@jupyter-widgets/base",
          "model_name": "LayoutModel",
          "model_module_version": "1.2.0",
          "state": {
            "_view_name": "LayoutView",
            "grid_template_rows": null,
            "right": null,
            "justify_content": null,
            "_view_module": "@jupyter-widgets/base",
            "overflow": null,
            "_model_module_version": "1.2.0",
            "_view_count": null,
            "flex_flow": null,
            "width": null,
            "min_width": null,
            "border": null,
            "align_items": null,
            "bottom": null,
            "_model_module": "@jupyter-widgets/base",
            "top": null,
            "grid_column": null,
            "overflow_y": null,
            "overflow_x": null,
            "grid_auto_flow": null,
            "grid_area": null,
            "grid_template_columns": null,
            "flex": null,
            "_model_name": "LayoutModel",
            "justify_items": null,
            "grid_row": null,
            "max_height": null,
            "align_content": null,
            "visibility": null,
            "align_self": null,
            "height": null,
            "min_height": null,
            "padding": null,
            "grid_auto_rows": null,
            "grid_gap": null,
            "max_width": null,
            "order": null,
            "_view_module_version": "1.2.0",
            "grid_template_areas": null,
            "object_position": null,
            "object_fit": null,
            "grid_auto_columns": null,
            "margin": null,
            "display": null,
            "left": null
          }
        },
        "232b0f13edd647a39ff5f5c7539cc7bf": {
          "model_module": "@jupyter-widgets/base",
          "model_name": "LayoutModel",
          "model_module_version": "1.2.0",
          "state": {
            "_view_name": "LayoutView",
            "grid_template_rows": null,
            "right": null,
            "justify_content": null,
            "_view_module": "@jupyter-widgets/base",
            "overflow": null,
            "_model_module_version": "1.2.0",
            "_view_count": null,
            "flex_flow": null,
            "width": null,
            "min_width": null,
            "border": null,
            "align_items": null,
            "bottom": null,
            "_model_module": "@jupyter-widgets/base",
            "top": null,
            "grid_column": null,
            "overflow_y": null,
            "overflow_x": null,
            "grid_auto_flow": null,
            "grid_area": null,
            "grid_template_columns": null,
            "flex": null,
            "_model_name": "LayoutModel",
            "justify_items": null,
            "grid_row": null,
            "max_height": null,
            "align_content": null,
            "visibility": null,
            "align_self": null,
            "height": null,
            "min_height": null,
            "padding": null,
            "grid_auto_rows": null,
            "grid_gap": null,
            "max_width": null,
            "order": null,
            "_view_module_version": "1.2.0",
            "grid_template_areas": null,
            "object_position": null,
            "object_fit": null,
            "grid_auto_columns": null,
            "margin": null,
            "display": null,
            "left": null
          }
        },
        "90fa8a80721c4e0e9e034b777d4f1d3f": {
          "model_module": "@jupyter-widgets/controls",
          "model_name": "PlayModel",
          "model_module_version": "1.5.0",
          "state": {
            "_view_name": "PlayView",
            "style": "IPY_MODEL_bfbf32d81e62491ab5a8ea8bb8f3075f",
            "interval": 100,
            "_dom_classes": [],
            "description": "",
            "_model_name": "PlayModel",
            "max": 99999,
            "_view_module": "@jupyter-widgets/controls",
            "_model_module_version": "1.5.0",
            "value": 0,
            "_view_count": null,
            "disabled": false,
            "_repeat": false,
            "_view_module_version": "1.5.0",
            "show_repeat": true,
            "min": 0,
            "_playing": false,
            "step": 1,
            "description_tooltip": null,
            "_model_module": "@jupyter-widgets/controls",
            "layout": "IPY_MODEL_ec7424244ab94f1daef78b642185e635"
          }
        },
        "8123eb21b8b0479fbccdc1ca87fb596e": {
          "model_module": "@jupyter-widgets/controls",
          "model_name": "IntSliderModel",
          "model_module_version": "1.5.0",
          "state": {
            "_view_name": "IntSliderView",
            "style": "IPY_MODEL_476c98f7ebea42a5a9204faf56366dd6",
            "_dom_classes": [],
            "description": "",
            "step": 1,
            "_model_name": "IntSliderModel",
            "orientation": "horizontal",
            "max": 99999,
            "_view_module": "@jupyter-widgets/controls",
            "_model_module_version": "1.5.0",
            "value": 0,
            "_view_count": null,
            "disabled": false,
            "_view_module_version": "1.5.0",
            "min": 0,
            "continuous_update": true,
            "readout_format": "d",
            "description_tooltip": null,
            "readout": true,
            "_model_module": "@jupyter-widgets/controls",
            "layout": "IPY_MODEL_ceb70c509323452a981ac7e4bf3d6a3f"
          }
        },
        "9c1a31fa4b0b4d8ab38cc85df2ef6027": {
          "model_module": "@jupyter-widgets/controls",
          "model_name": "ButtonStyleModel",
          "model_module_version": "1.5.0",
          "state": {
            "_view_name": "StyleView",
            "_model_name": "ButtonStyleModel",
            "_view_module": "@jupyter-widgets/base",
            "_model_module_version": "1.5.0",
            "_view_count": null,
            "button_color": null,
            "font_weight": "",
            "_view_module_version": "1.2.0",
            "_model_module": "@jupyter-widgets/controls"
          }
        },
        "89828c55379f49509d9ad058dedb3c25": {
          "model_module": "@jupyter-widgets/base",
          "model_name": "LayoutModel",
          "model_module_version": "1.2.0",
          "state": {
            "_view_name": "LayoutView",
            "grid_template_rows": null,
            "right": null,
            "justify_content": null,
            "_view_module": "@jupyter-widgets/base",
            "overflow": null,
            "_model_module_version": "1.2.0",
            "_view_count": null,
            "flex_flow": null,
            "width": "34px",
            "min_width": null,
            "border": null,
            "align_items": null,
            "bottom": null,
            "_model_module": "@jupyter-widgets/base",
            "top": null,
            "grid_column": null,
            "overflow_y": null,
            "overflow_x": null,
            "grid_auto_flow": null,
            "grid_area": null,
            "grid_template_columns": null,
            "flex": null,
            "_model_name": "LayoutModel",
            "justify_items": null,
            "grid_row": null,
            "max_height": null,
            "align_content": null,
            "visibility": null,
            "align_self": null,
            "height": null,
            "min_height": null,
            "padding": null,
            "grid_auto_rows": null,
            "grid_gap": null,
            "max_width": null,
            "order": null,
            "_view_module_version": "1.2.0",
            "grid_template_areas": null,
            "object_position": null,
            "object_fit": null,
            "grid_auto_columns": null,
            "margin": null,
            "display": null,
            "left": null
          }
        }
      }
    }
  },
  "cells": [
    {
      "cell_type": "markdown",
      "metadata": {
        "id": "pj2BWZxUDbEE"
      },
      "source": [
        "# **Hello there!**\n",
        "\n",
        "This is a Jupyter notebook for running Molecular Dynamics (MD) simulations of Alkanes using the OpenMM engine\n",
        "\n",
        "Adapted by Professor Paul Robustelli from Pablo Arantes' \"Making it Rain\" and completed for Dartmouth CHEM 101.6/96.6 by J.W. Dell '22"
      ]
    },
    {
      "cell_type": "markdown",
      "metadata": {
        "id": "Lh96y6mGFY1D"
      },
      "source": [
        "---\n",
        "---\n",
        "# **Setting up the environment for MD calculation**\n",
        "\n",
        "Firstly, we need to install all necessary libraries and packages for our simulation. The main packages we will be installing are:\n",
        "\n",
        "1.    Anaconda (https://docs.conda.io/en/latest/miniconda.html)\n",
        "2.    OpenMM (https://openmm.org/)\n",
        "3.    PyTraj (https://amber-md.github.io/pytraj/latest/index.html)\n",
        "4.    py3Dmol (https://pypi.org/project/py3Dmol/)\n",
        "5.    Numpy (https://numpy.org/)\n",
        "6.    Matplotlib (https://matplotlib.org/)\n",
        "7.    AmberTools (https://ambermd.org/AmberTools.php)"
      ]
    },
    {
      "cell_type": "code",
      "metadata": {
        "id": "wH1oMiVUlxO_",
        "colab": {
          "base_uri": "https://localhost:8080/"
        },
        "outputId": "d1baaf6a-9b12-423d-bea2-53502ffbb9c7"
      },
      "source": [
        "#@title **Install dependencies**\n",
        "#@markdown It will take a few minutes; please, drink a coffee and wait. ;-)\n",
        "# install dependencies\n",
        "!pip -q install py3Dmol 2>&1 1>/dev/null\n",
        "!pip install --upgrade MDAnalysis 2>&1 1>/dev/null\n",
        "!pip install biopandas 2>&1 1>/dev/null\n",
        "# install conda\n",
        "!wget -qnc https://repo.anaconda.com/miniconda/Miniconda3-latest-Linux-x86_64.sh \n",
        "!bash Miniconda3-latest-Linux-x86_64.sh -bfp /usr/local 2>&1 1>/dev/null\n",
        "!rm Miniconda3-latest-Linux-x86_64.sh\n",
        "!conda install -y -q -c conda-forge openmm=7.6 python=3.7 pdbfixer 2>&1 1>/dev/null\n",
        "!conda install -c conda-forge ambertools --yes 2>&1 1>/dev/null\n",
        "!conda install -c ambermd pytraj  --yes 2>&1 1>/dev/null\n",
        "#load dependencies\n",
        "import sys\n",
        "sys.path.append('/usr/local/lib/python3.7/site-packages/')\n",
        "from biopandas.pdb import PandasPdb\n",
        "import openmm as mm\n",
        "from openmm import *\n",
        "from openmm.app import *\n",
        "from openmm.unit import *\n",
        "import os\n",
        "import urllib.request  \n",
        "import numpy as np\n",
        "import MDAnalysis as mda\n",
        "import py3Dmol\n",
        "from __future__ import print_function\n",
        "import pytraj as pt\n",
        "import platform\n",
        "import scipy.cluster.hierarchy\n",
        "from scipy.spatial.distance import squareform\n",
        "import scipy.stats as stats\n",
        "import matplotlib.pyplot as plt\n",
        "import pandas as pd\n",
        "from scipy.interpolate import griddata\n",
        "import seaborn as sb\n",
        "from statistics import mean, stdev\n",
        "from pytraj import matrix\n",
        "from matplotlib import colors\n",
        "from IPython.display import set_matplotlib_formats\n",
        "#%matplotlib inline\n",
        "#set_matplotlib_formats('png')\n",
        "#plt.figure(figsize=(5,7))"
      ],
      "execution_count": null,
      "outputs": [
        {
          "output_type": "stream",
          "name": "stdout",
          "text": [
            ""
          ]
        }
      ]
    },
    {
      "cell_type": "markdown",
      "metadata": {
        "id": "fDQnAKJLFxtt"
      },
      "source": [
        "## Using Google Drive to store simulation data\n",
        "\n",
        "Google Colab does not allow users to keep data on their computing nodes. However, we can use Google Drive to read, write, and store our simulations files. Therefore, we suggest that you:\n",
        "\n",
        "1.   Create a folder in your own Google Drive and copy the necessary input files there.\n",
        "2.   Copy the path of your created directory. We will use it below."
      ]
    },
    {
      "cell_type": "code",
      "metadata": {
        "id": "Lm7Akepv_vl-",
        "colab": {
          "base_uri": "https://localhost:8080/"
        },
        "outputId": "9197c9a2-e04d-41f8-9de1-b015e9d93ceb"
      },
      "source": [
        "#@title ### **Import Google Drive**\n",
        "#@markdown Click the \"Run\" button to make your Google Drive accessible.\n",
        "from google.colab import drive\n",
        "\n",
        "drive.flush_and_unmount()\n",
        "drive.mount('/content/drive', force_remount=True)"
      ],
      "execution_count": null,
      "outputs": [
        {
          "output_type": "stream",
          "name": "stdout",
          "text": [
            "Drive not mounted, so nothing to flush and unmount.\n",
            "Mounted at /content/drive\n"
          ]
        }
      ]
    },
    {
      "cell_type": "code",
      "metadata": {
        "id": "lOKg9eH_ueRn",
        "colab": {
          "base_uri": "https://localhost:8080/"
        },
        "outputId": "cef276b1-0b4b-442e-86d6-a9aa25c746b2"
      },
      "source": [
        "#@title **Check if you correctly allocated GPU nodes**\n",
        "\n",
        "gpu_info = !nvidia-smi\n",
        "gpu_info = '\\n'.join(gpu_info)\n",
        "if gpu_info.find('failed') >= 0:\n",
        "  print('Select the Runtime > \"Change runtime type\" menu to enable a GPU accelerator, ')\n",
        "  print('and then re-execute this cell.')\n",
        "else:\n",
        "  print(gpu_info)"
      ],
      "execution_count": null,
      "outputs": [
        {
          "output_type": "stream",
          "name": "stdout",
          "text": [
            "Sun Jan  9 21:01:50 2022       \n",
            "+-----------------------------------------------------------------------------+\n",
            "| NVIDIA-SMI 495.44       Driver Version: 460.32.03    CUDA Version: 11.2     |\n",
            "|-------------------------------+----------------------+----------------------+\n",
            "| GPU  Name        Persistence-M| Bus-Id        Disp.A | Volatile Uncorr. ECC |\n",
            "| Fan  Temp  Perf  Pwr:Usage/Cap|         Memory-Usage | GPU-Util  Compute M. |\n",
            "|                               |                      |               MIG M. |\n",
            "|===============================+======================+======================|\n",
            "|   0  Tesla K80           Off  | 00000000:00:04.0 Off |                    0 |\n",
            "| N/A   62C    P8    33W / 149W |      3MiB / 11441MiB |      0%      Default |\n",
            "|                               |                      |                  N/A |\n",
            "+-------------------------------+----------------------+----------------------+\n",
            "                                                                               \n",
            "+-----------------------------------------------------------------------------+\n",
            "| Processes:                                                                  |\n",
            "|  GPU   GI   CI        PID   Type   Process name                  GPU Memory |\n",
            "|        ID   ID                                                   Usage      |\n",
            "|=============================================================================|\n",
            "|  No running processes found                                                 |\n",
            "+-----------------------------------------------------------------------------+\n"
          ]
        }
      ]
    },
    {
      "cell_type": "code",
      "metadata": {
        "colab": {
          "base_uri": "https://localhost:8080/"
        },
        "id": "eLX8IGZO7MIg",
        "outputId": "49a60295-9b32-4c46-fbee-edb84790900f"
      },
      "source": [
        "from simtk import unit\n",
        "from openmm import app\n",
        "\n",
        "#Let's load in our Butane Molecule and Force Field from our Google Drive\n",
        "PDB_file_name = 'butane.pdb'\n",
        "forcefield_file_name = 'butane.gaff2.xml' \n",
        "Google_Drive_Path = '/content/drive/MyDrive/22W/chem96' #@param {type:\"string\"}\n",
        "workDir = Google_Drive_Path\n",
        "initial_pdb = os.path.join(workDir, str(PDB_file_name))\n",
        "force_field = os.path.join(workDir,str(forcefield_file_name))\n",
        "print(initial_pdb)\n",
        "print(force_field )\n",
        "\n",
        "pdb = mm.app.PDBFile(initial_pdb)\n",
        "forcefield = mm.app.ForceField(force_field)\n",
        "\n",
        "system = forcefield.createSystem(pdb.topology, nonbondedMethod=mm.app.NoCutoff, constraints=mm.app.HBonds)\n",
        "integrator = mm.LangevinIntegrator(298.15*unit.kelvin, 5.0/unit.picoseconds, 2.0*unit.femtoseconds)\n",
        "integrator.setConstraintTolerance(1e-5)\n",
        "\n",
        "platform = mm.Platform.getPlatformByName('Reference')\n",
        "simulation = app.Simulation(pdb.topology, system, integrator, platform)\n",
        "simulation.context.setPositions(pdb.positions)"
      ],
      "execution_count": 6,
      "outputs": [
        {
          "output_type": "stream",
          "name": "stdout",
          "text": [
            "/content/drive/MyDrive/22W/chem96/butane.pdb\n",
            "/content/drive/MyDrive/22W/chem96/butane.gaff2.xml\n"
          ]
        }
      ]
    },
    {
      "cell_type": "code",
      "metadata": {
        "colab": {
          "base_uri": "https://localhost:8080/"
        },
        "id": "OA1RPmp18Ocw",
        "outputId": "94d8f57f-db35-46a9-b872-84eaee6b0f6b"
      },
      "source": [
        "integrator = mm.LangevinIntegrator(298.15*unit.kelvin, 5.0/unit.picoseconds, 2.0*unit.femtoseconds)\n",
        "integrator.setConstraintTolerance(1e-5)\n",
        "\n",
        "print('Minimizing...')\n",
        "\n",
        "st = simulation.context.getState(getPositions=True,getEnergy=True)\n",
        "print(F\"Potential energy before minimization is {st.getPotentialEnergy()}\")\n",
        "\n",
        "simulation.minimizeEnergy(maxIterations=100)\n",
        "\n",
        "st = simulation.context.getState(getPositions=True,getEnergy=True)\n",
        "print(F\"Potential energy after minimization is {st.getPotentialEnergy()}\")"
      ],
      "execution_count": 7,
      "outputs": [
        {
          "output_type": "stream",
          "name": "stdout",
          "text": [
            "Minimizing...\n",
            "Potential energy before minimization is 5.797528692127868 kJ/mol\n",
            "Potential energy after minimization is 5.295784483017471 kJ/mol\n"
          ]
        }
      ]
    },
    {
      "cell_type": "code",
      "metadata": {
        "colab": {
          "base_uri": "https://localhost:8080/"
        },
        "id": "hxKf7uhQ-kBZ",
        "outputId": "31e16243-569e-4fad-a85c-56b759152c09"
      },
      "source": [
        "from sys import stdout\n",
        "\n",
        "print('Equilibrating...')\n",
        "\n",
        "simulation.reporters.append(app.StateDataReporter(stdout, 100, step=True, \n",
        "    potentialEnergy=True, temperature=True, separator=','))\n",
        "simulation.context.setVelocitiesToTemperature(150.0*unit.kelvin)\n",
        "simulation.step(2500)"
      ],
      "execution_count": 8,
      "outputs": [
        {
          "output_type": "stream",
          "name": "stdout",
          "text": [
            "Equilibrating...\n",
            "#\"Step\",\"Potential Energy (kJ/mole)\",\"Temperature (K)\"\n",
            "100,27.978823508990786,165.5813844072982\n",
            "200,31.47608839865955,326.55975557197144\n",
            "300,36.76526503447228,237.68277662731023\n",
            "400,43.007175507559225,291.4303088321928\n",
            "500,41.30621160161385,289.1661583088558\n",
            "600,32.78654235680148,476.3896789979815\n",
            "700,31.027831954807603,359.89785435697524\n",
            "800,44.40391444822145,151.16128102846733\n",
            "900,26.19086347375022,279.57018603580826\n",
            "1000,42.293428618603144,366.73817265539185\n",
            "1100,33.22019873842899,407.68141276779596\n",
            "1200,47.5405181151517,448.30228549367524\n",
            "1300,55.317169476796536,438.7011494276667\n",
            "1400,39.27334855186761,367.8436315402859\n",
            "1500,44.011513961567104,404.0567953852824\n",
            "1600,49.34287593990956,499.25859600186294\n",
            "1700,59.13225881929458,455.21686469241195\n",
            "1800,49.265915786816045,245.73561201855787\n",
            "1900,37.51952123330787,485.02223628382865\n",
            "2000,48.298833975737956,239.37885363494325\n",
            "2100,46.98548212430103,283.61794423281964\n",
            "2200,55.35580112825775,338.1699093915438\n",
            "2300,34.36710183913463,308.20736068674256\n",
            "2400,41.0872259538569,279.59917939271855\n",
            "2500,30.902854227951288,423.76660393568574\n"
          ]
        }
      ]
    },
    {
      "cell_type": "code",
      "metadata": {
        "colab": {
          "base_uri": "https://localhost:8080/"
        },
        "id": "G70V9fa6-s65",
        "outputId": "72ee14b8-b991-426c-99c2-77d8dcea7286"
      },
      "source": [
        "import time as time\n",
        "\n",
        "print('Running Production...')\n",
        "\n",
        "# Begin timer\n",
        "tinit=time.time()\n",
        "\n",
        "# Clear simulation reporters\n",
        "simulation.reporters.clear()\n",
        "\n",
        "# Reinitialize simulation reporters. We do this because we want different information printed from the production run than the equilibration run.\n",
        "# Output basic simulation information below every 250000 steps - (which is equal to 2 fs(250,000) = 500,000 fs = 500 ps)\n",
        "simulation.reporters.append(app.StateDataReporter(stdout, 250000, \n",
        "    step=True, time=True, potentialEnergy=True, temperature=True, \n",
        "    speed=True, separator=','))\n",
        "\n",
        "# write out a trajectory (i.e., coordinates vs. time) to a DCD\n",
        "# file every 100 steps - 0.2 ps\n",
        "simulation.reporters.append(app.DCDReporter('butane_sim.dcd', 100))\n",
        "\n",
        "# run the simulation for 1.0x10^7 steps - 20 ns\n",
        "simulation.step(10000000)\n",
        "\n",
        "# End timer\n",
        "tfinal=time.time()\n",
        "print('Done!')\n",
        "print('Time required for simulation:', tfinal-tinit, 'seconds')"
      ],
      "execution_count": 10,
      "outputs": [
        {
          "output_type": "stream",
          "name": "stdout",
          "text": [
            "Running Production...\n",
            "#\"Step\",\"Time (ps)\",\"Potential Energy (kJ/mole)\",\"Temperature (K)\",\"Speed (ns/day)\"\n",
            "10250000,20500.000003258898,26.52413317644528,408.1114450078172,0\n",
            "10500000,21000.00000336076,38.74205150329581,251.77339349962807,1.22e+04\n",
            "10750000,21500.000003462625,32.981524608305925,256.5960179315952,1.22e+04\n",
            "11000000,22000.000003564488,36.16892943926808,346.56828432179196,1.22e+04\n",
            "11250000,22500.00000366635,35.190812065280106,339.2153747766751,1.23e+04\n",
            "11500000,23000.000003768215,35.25756317407367,342.67397902789406,1.23e+04\n",
            "11750000,23500.00000387008,43.09234628868697,292.5973833250168,1.23e+04\n",
            "12000000,24000.00000397194,38.068208523060434,223.40640291753544,1.24e+04\n",
            "12250000,24500.000004073805,42.77099261387904,366.4430793713178,1.24e+04\n",
            "12500000,25000.00000417567,32.98841603185501,322.9832030048578,1.24e+04\n",
            "12750000,25500.000004277532,48.191398931859105,261.3830521987374,1.24e+04\n",
            "13000000,26000.000004379395,35.043348133632534,276.54465321383594,1.24e+04\n",
            "13250000,26500.00000448126,51.10306858172687,398.4118489858216,1.24e+04\n",
            "13500000,27000.000004583122,38.678011654954965,431.3320172166708,1.24e+04\n",
            "13750000,27500.000004684985,53.4744426647876,390.7713639924979,1.24e+04\n",
            "14000000,28000.00000478685,33.323242148751596,334.58659652688607,1.24e+04\n",
            "14250000,28500.000004888712,42.79061306532158,338.54647090022155,1.24e+04\n",
            "14500000,29000.000004990576,27.57047751235172,253.20650974612812,1.24e+04\n",
            "14750000,29500.00000509244,41.41140461549169,350.6969440188837,1.24e+04\n",
            "15000000,30000.000005194303,53.72422941036942,286.49426897546425,1.24e+04\n",
            "15250000,30500.000005296166,28.21943967400454,410.997487649621,1.24e+04\n",
            "15500000,31000.00000539803,36.0640598734959,273.4136765534385,1.24e+04\n",
            "15750000,31500.000005499893,49.028927193674924,225.10790566781714,1.24e+04\n",
            "16000000,32000.000005601756,35.894558580250326,261.9952513403351,1.24e+04\n",
            "16250000,32500.00000570362,29.755724362246752,397.2509712307806,1.24e+04\n",
            "16500000,33000.00000580548,33.24396689729393,285.19349603032106,1.24e+04\n",
            "16750000,33500.00000590734,34.72682034229215,483.8359794994091,1.24e+04\n",
            "17000000,34000.000006009206,28.077215693297216,206.99248968961464,1.24e+04\n",
            "17250000,34500.00000611107,38.116987091248575,388.3857419819335,1.24e+04\n",
            "17500000,35000.00000621293,33.89291908972456,218.36384273225627,1.24e+04\n",
            "17750000,35500.000006314796,49.355193618715084,372.1259705121006,1.24e+04\n",
            "18000000,36000.00000641666,50.0509159896155,305.0942579515216,1.24e+04\n",
            "18250000,36500.00000651852,60.177471916703,289.57806115993617,1.24e+04\n",
            "18500000,37000.00000662039,34.228629413308774,218.33860984748762,1.24e+04\n",
            "18750000,37500.00000672225,47.770455746576125,297.59536171466556,1.24e+04\n",
            "19000000,38000.00000682411,31.365520901933586,374.75519994755615,1.25e+04\n",
            "19250000,38500.00000692598,36.59264965180085,266.1534904394615,1.25e+04\n",
            "19500000,39000.00000702784,36.6299607263701,272.945188679293,1.25e+04\n",
            "19750000,39500.0000071297,41.41483723507065,278.92056415336924,1.25e+04\n",
            "20000000,40000.00000723157,39.64209432426561,182.64618648519422,1.25e+04\n",
            "Done!\n",
            "Time required for simulation: 138.6999967098236 seconds\n"
          ]
        }
      ]
    },
    {
      "cell_type": "code",
      "metadata": {
        "colab": {
          "base_uri": "https://localhost:8080/"
        },
        "id": "01YETJ-X--5U",
        "outputId": "8efbd758-0459-4e96-c83a-549a24b46ee9"
      },
      "source": [
        "!pip install nglview 2>&1 1>/dev/null\n",
        "!conda install -c conda-forge mdtraj  --yes 2>&1 1>/dev/null"
      ],
      "execution_count": 11,
      "outputs": [
        {
          "output_type": "stream",
          "name": "stdout",
          "text": [
            "\u001b[33mWARNING: Running pip as the 'root' user can result in broken permissions and conflicting behaviour with the system package manager. It is recommended to use a virtual environment instead: https://pip.pypa.io/warnings/venv\u001b[0m\n"
          ]
        }
      ]
    },
    {
      "cell_type": "code",
      "metadata": {
        "id": "S7txpJFO_xSQ"
      },
      "source": [
        "import mdtraj as md\n",
        "traj = md.load('butane_sim.dcd', top=initial_pdb)\n"
      ],
      "execution_count": 12,
      "outputs": []
    },
    {
      "cell_type": "code",
      "metadata": {
        "colab": {
          "base_uri": "https://localhost:8080/",
          "height": 317,
          "referenced_widgets": [
            "0ac6269e311b44b6a79e8182a887466d",
            "ffbbc134e71c415aafe17f5c5efe7d5d",
            "3706e969344d41bca8979b82edfa8dce",
            "837d4699e9ec45be857ff0695977fb1a",
            "8bc1e4029aac43558a40a230958ac03e",
            "dc2bbb7c87bb4ae19803e0d36b2e9015",
            "bfbf32d81e62491ab5a8ea8bb8f3075f",
            "ec7424244ab94f1daef78b642185e635",
            "476c98f7ebea42a5a9204faf56366dd6",
            "ceb70c509323452a981ac7e4bf3d6a3f",
            "232b0f13edd647a39ff5f5c7539cc7bf",
            "90fa8a80721c4e0e9e034b777d4f1d3f",
            "8123eb21b8b0479fbccdc1ca87fb596e",
            "9c1a31fa4b0b4d8ab38cc85df2ef6027",
            "89828c55379f49509d9ad058dedb3c25"
          ]
        },
        "id": "o62FhIWVAWAT",
        "outputId": "287720ca-ddce-4139-fb85-b96bcae1ff4c"
      },
      "source": [
        "import ipywidgets\n",
        "from ipywidgets import interact, fixed\n",
        "import warnings\n",
        "warnings.filterwarnings('ignore')\n",
        "from google.colab import output\n",
        "output.enable_custom_widget_manager()\n",
        "\n",
        "import nglview as ngl\n",
        "\n",
        "visualize = ngl.show_mdtraj(traj)\n",
        "visualize"
      ],
      "execution_count": 13,
      "outputs": [
        {
          "output_type": "display_data",
          "data": {
            "application/vnd.jupyter.widget-view+json": {
              "model_id": "0ac6269e311b44b6a79e8182a887466d",
              "version_minor": 0,
              "version_major": 2
            },
            "text/plain": [
              ""
            ]
          },
          "metadata": {
            "application/vnd.jupyter.widget-view+json": {
              "colab": {
                "custom_widget_manager": {
                  "url": "https://ssl.gstatic.com/colaboratory-static/widgets/colab-cdn-widget-manager/a8874ba6619b6106/manager.min.js"
                }
              }
            }
          }
        },
        {
          "output_type": "display_data",
          "data": {
            "application/vnd.jupyter.widget-view+json": {
              "model_id": "3706e969344d41bca8979b82edfa8dce",
              "version_minor": 0,
              "version_major": 2
            },
            "text/plain": [
              "NGLWidget(max_frame=99999)"
            ]
          },
          "metadata": {
            "application/vnd.jupyter.widget-view+json": {
              "colab": {
                "custom_widget_manager": {
                  "url": "https://ssl.gstatic.com/colaboratory-static/widgets/colab-cdn-widget-manager/a8874ba6619b6106/manager.min.js"
                }
              }
            }
          }
        }
      ]
    },
    {
      "cell_type": "code",
      "metadata": {
        "colab": {
          "base_uri": "https://localhost:8080/",
          "height": 488
        },
        "id": "qWG80bj3BE1s",
        "outputId": "c0333e2d-883e-4833-968b-f14edea04ded"
      },
      "source": [
        "atoms, bonds = traj.topology.to_dataframe()\n",
        "atoms"
      ],
      "execution_count": 14,
      "outputs": [
        {
          "output_type": "execute_result",
          "data": {
            "text/html": [
              "\n",
              "  <div id=\"df-59d3e8db-5956-42d6-867b-13bfc61a9d5c\">\n",
              "    <div class=\"colab-df-container\">\n",
              "      <div>\n",
              "<style scoped>\n",
              "    .dataframe tbody tr th:only-of-type {\n",
              "        vertical-align: middle;\n",
              "    }\n",
              "\n",
              "    .dataframe tbody tr th {\n",
              "        vertical-align: top;\n",
              "    }\n",
              "\n",
              "    .dataframe thead th {\n",
              "        text-align: right;\n",
              "    }\n",
              "</style>\n",
              "<table border=\"1\" class=\"dataframe\">\n",
              "  <thead>\n",
              "    <tr style=\"text-align: right;\">\n",
              "      <th></th>\n",
              "      <th>serial</th>\n",
              "      <th>name</th>\n",
              "      <th>element</th>\n",
              "      <th>resSeq</th>\n",
              "      <th>resName</th>\n",
              "      <th>chainID</th>\n",
              "      <th>segmentID</th>\n",
              "    </tr>\n",
              "  </thead>\n",
              "  <tbody>\n",
              "    <tr>\n",
              "      <th>0</th>\n",
              "      <td>1</td>\n",
              "      <td>C1</td>\n",
              "      <td>C</td>\n",
              "      <td>1</td>\n",
              "      <td>NBU</td>\n",
              "      <td>0</td>\n",
              "      <td></td>\n",
              "    </tr>\n",
              "    <tr>\n",
              "      <th>1</th>\n",
              "      <td>2</td>\n",
              "      <td>H11</td>\n",
              "      <td>H</td>\n",
              "      <td>1</td>\n",
              "      <td>NBU</td>\n",
              "      <td>0</td>\n",
              "      <td></td>\n",
              "    </tr>\n",
              "    <tr>\n",
              "      <th>2</th>\n",
              "      <td>3</td>\n",
              "      <td>H12</td>\n",
              "      <td>H</td>\n",
              "      <td>1</td>\n",
              "      <td>NBU</td>\n",
              "      <td>0</td>\n",
              "      <td></td>\n",
              "    </tr>\n",
              "    <tr>\n",
              "      <th>3</th>\n",
              "      <td>4</td>\n",
              "      <td>H13</td>\n",
              "      <td>H</td>\n",
              "      <td>1</td>\n",
              "      <td>NBU</td>\n",
              "      <td>0</td>\n",
              "      <td></td>\n",
              "    </tr>\n",
              "    <tr>\n",
              "      <th>4</th>\n",
              "      <td>5</td>\n",
              "      <td>C2</td>\n",
              "      <td>C</td>\n",
              "      <td>1</td>\n",
              "      <td>NBU</td>\n",
              "      <td>0</td>\n",
              "      <td></td>\n",
              "    </tr>\n",
              "    <tr>\n",
              "      <th>5</th>\n",
              "      <td>6</td>\n",
              "      <td>H21</td>\n",
              "      <td>H</td>\n",
              "      <td>1</td>\n",
              "      <td>NBU</td>\n",
              "      <td>0</td>\n",
              "      <td></td>\n",
              "    </tr>\n",
              "    <tr>\n",
              "      <th>6</th>\n",
              "      <td>7</td>\n",
              "      <td>H22</td>\n",
              "      <td>H</td>\n",
              "      <td>1</td>\n",
              "      <td>NBU</td>\n",
              "      <td>0</td>\n",
              "      <td></td>\n",
              "    </tr>\n",
              "    <tr>\n",
              "      <th>7</th>\n",
              "      <td>8</td>\n",
              "      <td>C3</td>\n",
              "      <td>C</td>\n",
              "      <td>1</td>\n",
              "      <td>NBU</td>\n",
              "      <td>0</td>\n",
              "      <td></td>\n",
              "    </tr>\n",
              "    <tr>\n",
              "      <th>8</th>\n",
              "      <td>9</td>\n",
              "      <td>H31</td>\n",
              "      <td>H</td>\n",
              "      <td>1</td>\n",
              "      <td>NBU</td>\n",
              "      <td>0</td>\n",
              "      <td></td>\n",
              "    </tr>\n",
              "    <tr>\n",
              "      <th>9</th>\n",
              "      <td>10</td>\n",
              "      <td>H32</td>\n",
              "      <td>H</td>\n",
              "      <td>1</td>\n",
              "      <td>NBU</td>\n",
              "      <td>0</td>\n",
              "      <td></td>\n",
              "    </tr>\n",
              "    <tr>\n",
              "      <th>10</th>\n",
              "      <td>11</td>\n",
              "      <td>C4</td>\n",
              "      <td>C</td>\n",
              "      <td>1</td>\n",
              "      <td>NBU</td>\n",
              "      <td>0</td>\n",
              "      <td></td>\n",
              "    </tr>\n",
              "    <tr>\n",
              "      <th>11</th>\n",
              "      <td>12</td>\n",
              "      <td>H41</td>\n",
              "      <td>H</td>\n",
              "      <td>1</td>\n",
              "      <td>NBU</td>\n",
              "      <td>0</td>\n",
              "      <td></td>\n",
              "    </tr>\n",
              "    <tr>\n",
              "      <th>12</th>\n",
              "      <td>13</td>\n",
              "      <td>H42</td>\n",
              "      <td>H</td>\n",
              "      <td>1</td>\n",
              "      <td>NBU</td>\n",
              "      <td>0</td>\n",
              "      <td></td>\n",
              "    </tr>\n",
              "    <tr>\n",
              "      <th>13</th>\n",
              "      <td>14</td>\n",
              "      <td>H43</td>\n",
              "      <td>H</td>\n",
              "      <td>1</td>\n",
              "      <td>NBU</td>\n",
              "      <td>0</td>\n",
              "      <td></td>\n",
              "    </tr>\n",
              "  </tbody>\n",
              "</table>\n",
              "</div>\n",
              "      <button class=\"colab-df-convert\" onclick=\"convertToInteractive('df-59d3e8db-5956-42d6-867b-13bfc61a9d5c')\"\n",
              "              title=\"Convert this dataframe to an interactive table.\"\n",
              "              style=\"display:none;\">\n",
              "        \n",
              "  <svg xmlns=\"http://www.w3.org/2000/svg\" height=\"24px\"viewBox=\"0 0 24 24\"\n",
              "       width=\"24px\">\n",
              "    <path d=\"M0 0h24v24H0V0z\" fill=\"none\"/>\n",
              "    <path d=\"M18.56 5.44l.94 2.06.94-2.06 2.06-.94-2.06-.94-.94-2.06-.94 2.06-2.06.94zm-11 1L8.5 8.5l.94-2.06 2.06-.94-2.06-.94L8.5 2.5l-.94 2.06-2.06.94zm10 10l.94 2.06.94-2.06 2.06-.94-2.06-.94-.94-2.06-.94 2.06-2.06.94z\"/><path d=\"M17.41 7.96l-1.37-1.37c-.4-.4-.92-.59-1.43-.59-.52 0-1.04.2-1.43.59L10.3 9.45l-7.72 7.72c-.78.78-.78 2.05 0 2.83L4 21.41c.39.39.9.59 1.41.59.51 0 1.02-.2 1.41-.59l7.78-7.78 2.81-2.81c.8-.78.8-2.07 0-2.86zM5.41 20L4 18.59l7.72-7.72 1.47 1.35L5.41 20z\"/>\n",
              "  </svg>\n",
              "      </button>\n",
              "      \n",
              "  <style>\n",
              "    .colab-df-container {\n",
              "      display:flex;\n",
              "      flex-wrap:wrap;\n",
              "      gap: 12px;\n",
              "    }\n",
              "\n",
              "    .colab-df-convert {\n",
              "      background-color: #E8F0FE;\n",
              "      border: none;\n",
              "      border-radius: 50%;\n",
              "      cursor: pointer;\n",
              "      display: none;\n",
              "      fill: #1967D2;\n",
              "      height: 32px;\n",
              "      padding: 0 0 0 0;\n",
              "      width: 32px;\n",
              "    }\n",
              "\n",
              "    .colab-df-convert:hover {\n",
              "      background-color: #E2EBFA;\n",
              "      box-shadow: 0px 1px 2px rgba(60, 64, 67, 0.3), 0px 1px 3px 1px rgba(60, 64, 67, 0.15);\n",
              "      fill: #174EA6;\n",
              "    }\n",
              "\n",
              "    [theme=dark] .colab-df-convert {\n",
              "      background-color: #3B4455;\n",
              "      fill: #D2E3FC;\n",
              "    }\n",
              "\n",
              "    [theme=dark] .colab-df-convert:hover {\n",
              "      background-color: #434B5C;\n",
              "      box-shadow: 0px 1px 3px 1px rgba(0, 0, 0, 0.15);\n",
              "      filter: drop-shadow(0px 1px 2px rgba(0, 0, 0, 0.3));\n",
              "      fill: #FFFFFF;\n",
              "    }\n",
              "  </style>\n",
              "\n",
              "      <script>\n",
              "        const buttonEl =\n",
              "          document.querySelector('#df-59d3e8db-5956-42d6-867b-13bfc61a9d5c button.colab-df-convert');\n",
              "        buttonEl.style.display =\n",
              "          google.colab.kernel.accessAllowed ? 'block' : 'none';\n",
              "\n",
              "        async function convertToInteractive(key) {\n",
              "          const element = document.querySelector('#df-59d3e8db-5956-42d6-867b-13bfc61a9d5c');\n",
              "          const dataTable =\n",
              "            await google.colab.kernel.invokeFunction('convertToInteractive',\n",
              "                                                     [key], {});\n",
              "          if (!dataTable) return;\n",
              "\n",
              "          const docLinkHtml = 'Like what you see? Visit the ' +\n",
              "            '<a target=\"_blank\" href=https://colab.research.google.com/notebooks/data_table.ipynb>data table notebook</a>'\n",
              "            + ' to learn more about interactive tables.';\n",
              "          element.innerHTML = '';\n",
              "          dataTable['output_type'] = 'display_data';\n",
              "          await google.colab.output.renderOutput(dataTable, element);\n",
              "          const docLink = document.createElement('div');\n",
              "          docLink.innerHTML = docLinkHtml;\n",
              "          element.appendChild(docLink);\n",
              "        }\n",
              "      </script>\n",
              "    </div>\n",
              "  </div>\n",
              "  "
            ],
            "text/plain": [
              "    serial name element  resSeq resName  chainID segmentID\n",
              "0        1   C1       C       1     NBU        0          \n",
              "1        2  H11       H       1     NBU        0          \n",
              "2        3  H12       H       1     NBU        0          \n",
              "3        4  H13       H       1     NBU        0          \n",
              "4        5   C2       C       1     NBU        0          \n",
              "5        6  H21       H       1     NBU        0          \n",
              "6        7  H22       H       1     NBU        0          \n",
              "7        8   C3       C       1     NBU        0          \n",
              "8        9  H31       H       1     NBU        0          \n",
              "9       10  H32       H       1     NBU        0          \n",
              "10      11   C4       C       1     NBU        0          \n",
              "11      12  H41       H       1     NBU        0          \n",
              "12      13  H42       H       1     NBU        0          \n",
              "13      14  H43       H       1     NBU        0          "
            ]
          },
          "metadata": {},
          "execution_count": 14
        }
      ]
    },
    {
      "cell_type": "code",
      "metadata": {
        "colab": {
          "base_uri": "https://localhost:8080/",
          "height": 295
        },
        "id": "8IkYIlYkBLeP",
        "outputId": "3e86b5bd-b8a0-4857-d6cc-22fb84120718"
      },
      "source": [
        "bond_indices = [4, 7] # atoms to define the bond length\n",
        "bond_length = md.compute_distances(traj, [bond_indices])\n",
        "\n",
        "bondcounts, binedges, otherstuff = plt.hist(bond_length, bins=120)\n",
        "plt.title('C-C bond length histogram')\n",
        "plt.xlabel('Bond length (nm)')\n",
        "plt.ylabel('Counts')\n",
        "plt.show()"
      ],
      "execution_count": 15,
      "outputs": [
        {
          "output_type": "display_data",
          "data": {
            "image/png": "[encoded data removed]",
            "text/plain": [
              "<Figure size 432x288 with 1 Axes>"
            ]
          },
          "metadata": {
            "needs_background": "light"
          }
        }
      ]
    },
    {
      "cell_type": "code",
      "metadata": {
        "colab": {
          "base_uri": "https://localhost:8080/",
          "height": 295
        },
        "id": "o2fyETQ3DNcJ",
        "outputId": "4d7b347c-f1f3-49b3-fd71-a9565a88c448"
      },
      "source": [
        "kB = 8.31446/1000 # Boltzmann constant in kJ/mol\n",
        "Temp = 298.15 # simulation temperature\n",
        "bondcounts[bondcounts==0] = 0.1 # get rid of any bins with 0 counts/infinite energy\n",
        "pmf = -kB*Temp*np.log(bondcounts) # W(x) = -kT*ln[p(x)] = -kT*ln[n(x)] + C\n",
        "pmf = pmf - np.min(pmf) # subtract off minimum value so that energies start from 0\n",
        "\n",
        "bincenters = (binedges[1:] + binedges[:-1])/2 # compute centers of histogram bins\n",
        "\n",
        "plt.plot(bincenters, pmf)\n",
        "plt.xlabel('Bond length (nm)')\n",
        "plt.ylabel('Relative free energy (kJ/mol)')\n",
        "plt.title('C-C bond length pmf')\n",
        "plt.show()"
      ],
      "execution_count": 16,
      "outputs": [
        {
          "output_type": "display_data",
          "data": {
            "image/png": "[encoded data removed]",
            "text/plain": [
              "<Figure size 432x288 with 1 Axes>"
            ]
          },
          "metadata": {
            "needs_background": "light"
          }
        }
      ]
    },
    {
      "cell_type": "code",
      "metadata": {
        "colab": {
          "base_uri": "https://localhost:8080/",
          "height": 295
        },
        "id": "ukZa6k5uChho",
        "outputId": "f5cf4ea1-d2e3-4ad3-88e6-ddf6e2e9f321"
      },
      "source": [
        "bond_indices = [4, 5] # many possibilities!\n",
        "bondlength = md.compute_distances(traj, [bond_indices])\n",
        "\n",
        "lengthcounts, binedges, otherstuff = plt.hist(bondlength, bins=100)\n",
        "plt.title('C-H bond length')\n",
        "plt.xlabel('Bond length (nm)')\n",
        "plt.ylabel('Counts')\n",
        "plt.show()"
      ],
      "execution_count": 17,
      "outputs": [
        {
          "output_type": "display_data",
          "data": {
            "image/png": "[encoded data removed]",
            "text/plain": [
              "<Figure size 432x288 with 1 Axes>"
            ]
          },
          "metadata": {
            "needs_background": "light"
          }
        }
      ]
    },
    {
      "cell_type": "code",
      "metadata": {
        "colab": {
          "base_uri": "https://localhost:8080/",
          "height": 295
        },
        "id": "vHKuVS7ADa8z",
        "outputId": "66a51cd5-7b35-45b4-ba4c-065e25290962"
      },
      "source": [
        "kB = 8.31446/1000 # Boltzmann constant in kJ/mol\n",
        "Temp = 298.15 # simulation temperature\n",
        "lengthcounts[lengthcounts==0] = 0.1 # get rid of any bins with 0 counts/infinite energy\n",
        "pmf = -kB*Temp*np.log(lengthcounts) # W(x) = -kT*ln[p(x)] = -kT*ln[n(x)] + C\n",
        "pmf = pmf - np.min(pmf) # subtract off minimum value so that energies start from 0\n",
        "\n",
        "bincenters = (binedges[1:] + binedges[:-1])/2 # compute centers of histogram bins\n",
        "\n",
        "plt.plot(bincenters, pmf)\n",
        "plt.xlabel('Bond length (nm)')\n",
        "plt.ylabel('Relative free energy (kJ/mol)')\n",
        "plt.title('C-H bond length pmf')\n",
        "plt.show()"
      ],
      "execution_count": 18,
      "outputs": [
        {
          "output_type": "display_data",
          "data": {
            "image/png": "[encoded data removed]",
            "text/plain": [
              "<Figure size 432x288 with 1 Axes>"
            ]
          },
          "metadata": {
            "needs_background": "light"
          }
        }
      ]
    },
    {
      "cell_type": "code",
      "metadata": {
        "colab": {
          "base_uri": "https://localhost:8080/",
          "height": 299
        },
        "id": "T5oNvZGHBfs4",
        "outputId": "6e0f7fb6-1279-4bde-88ae-d8b3c2c224d4"
      },
      "source": [
        "phi_indices = [0, 4, 7, 10] # atoms to define the torsion angle\n",
        "phi = md.compute_dihedrals(traj, [phi_indices])\n",
        "\n",
        "phicounts, binedges, otherstuff = plt.hist(phi, bins=90) # create a histogram with 90 bins\n",
        "plt.title('H-C-C-H torsion angle')\n",
        "plt.xlabel(r'$\\phi$ (rad)')\n",
        "plt.ylabel('Counts')\n",
        "plt.show()"
      ],
      "execution_count": 19,
      "outputs": [
        {
          "output_type": "display_data",
          "data": {
            "image/png": "[encoded data removed]",
            "text/plain": [
              "<Figure size 432x288 with 1 Axes>"
            ]
          },
          "metadata": {
            "needs_background": "light"
          }
        }
      ]
    },
    {
      "cell_type": "code",
      "metadata": {
        "colab": {
          "base_uri": "https://localhost:8080/",
          "height": 299
        },
        "id": "XTqsagjkB9XZ",
        "outputId": "18074ce7-feef-4969-a2f9-af614d147f2a"
      },
      "source": [
        "kB = 8.31446/1000 # Boltzmann constant in kJ/mol\n",
        "Temp = 298.15 # simulation temperature\n",
        "phicounts[phicounts==0] = 0.1 # get rid of any bins with 0 counts/infinite energy\n",
        "pmf = -kB*Temp*np.log(phicounts) # W(x) = -kT*ln[p(x)] = -kT*ln[n(x)] + C\n",
        "pmf = pmf - np.min(pmf) # subtract off minimum value so that energies start from 0\n",
        "\n",
        "bincenters = (binedges[1:] + binedges[:-1])/2 # compute centers of histogram bins\n",
        "\n",
        "plt.plot(bincenters, pmf)\n",
        "plt.title('H-C-C-H torsion pmf')\n",
        "plt.xlabel(r'$\\phi$ (rad)')\n",
        "plt.ylabel('Relative free energy (kJ/mol)')\n",
        "plt.show()"
      ],
      "execution_count": 20,
      "outputs": [
        {
          "output_type": "display_data",
          "data": {
            "image/png": "[encoded data removed]",
            "text/plain": [
              "<Figure size 432x288 with 1 Axes>"
            ]
          },
          "metadata": {
            "needs_background": "light"
          }
        }
      ]
    },
    {
      "cell_type": "code",
      "metadata": {
        "colab": {
          "base_uri": "https://localhost:8080/",
          "height": 295
        },
        "id": "7m47X3aGCHL_",
        "outputId": "0cb05840-a100-427c-f5ed-78e8a1ef3a49"
      },
      "source": [
        "angle_indices = [0, 4, 7] # or could do [4, 7, 10]\n",
        "bondangle = md.compute_angles(traj, [angle_indices])\n",
        "\n",
        "anglecounts, binedges, otherstuff = plt.hist(bondangle, bins=100)\n",
        "plt.title('C-C-C bond angle')\n",
        "plt.xlabel('Bond angle (rad)')\n",
        "plt.ylabel('Counts')\n",
        "plt.show()"
      ],
      "execution_count": 21,
      "outputs": [
        {
          "output_type": "display_data",
          "data": {
            "image/png": "[encoded data removed]",
            "text/plain": [
              "<Figure size 432x288 with 1 Axes>"
            ]
          },
          "metadata": {
            "needs_background": "light"
          }
        }
      ]
    },
    {
      "cell_type": "code",
      "metadata": {
        "colab": {
          "base_uri": "https://localhost:8080/",
          "height": 279
        },
        "id": "HlyahiMcCa3e",
        "outputId": "52b457da-4ac0-4ee7-aa69-9ad7ff74d418"
      },
      "source": [
        "anglecounts[anglecounts==0] = 0.1\n",
        "pmf = -kB*Temp*np.log(anglecounts)\n",
        "pmf = pmf - np.min(pmf)\n",
        "\n",
        "bincenters = (binedges[1:] + binedges[:-1])/2\n",
        "\n",
        "\n",
        "plt.plot(bincenters, pmf)\n",
        "plt.xlabel('Bond angle (rad)')\n",
        "plt.ylabel('Relative free energy (kJ/mol)')\n",
        "plt.show()"
      ],
      "execution_count": 22,
      "outputs": [
        {
          "output_type": "display_data",
          "data": {
            "image/png": "[encoded data removed]",
            "text/plain": [
              "<Figure size 432x288 with 1 Axes>"
            ]
          },
          "metadata": {
            "needs_background": "light"
          }
        }
      ]
    }
  ]
}