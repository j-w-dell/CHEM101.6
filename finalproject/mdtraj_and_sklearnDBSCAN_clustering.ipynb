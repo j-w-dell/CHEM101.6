{
 "cells": [
  {
   "cell_type": "code",
   "execution_count": 1,
   "id": "77867d0f",
   "metadata": {},
   "outputs": [],
   "source": [
    "from __future__ import print_function\n",
    "%matplotlib inline\n",
    "import mdtraj as md\n",
    "import numpy as np\n",
    "import matplotlib.pyplot as plt\n",
    "import scipy.cluster.hierarchy\n",
    "from scipy.spatial.distance import squareform"
   ]
  },
  {
   "cell_type": "code",
   "execution_count": 2,
   "id": "6b8a19e1",
   "metadata": {},
   "outputs": [
    {
     "name": "stderr",
     "output_type": "stream",
     "text": [
      "/home/jwdell/anaconda3/envs/new_chem101/lib/python3.7/site-packages/mdtraj/core/trajectory.py:438: UserWarning: top= kwargs ignored since this file parser does not support it\n",
      "  warnings.warn('top= kwargs ignored since this file parser does not support it')\n"
     ]
    }
   ],
   "source": [
    "traj = md.load('ntail.apo.protein.300K.h5')"
   ]
  },
  {
   "cell_type": "code",
   "execution_count": 3,
   "id": "8c5e26d0",
   "metadata": {},
   "outputs": [],
   "source": [
    "# simple version for really small molecules\n",
    "# mdtraj.org/1.9.4/examples/clustering.html\n",
    "\n",
    "# distances = np.empty((traj.n_frames, traj.n_frames))\n",
    "# for i in range(traj.n_frames):\n",
    "#     distances[i] = md.rmsd(traj, traj, i)\n",
    "# print('Max pairwise rmsd: %f nm' % np.max(distances))"
   ]
  },
  {
   "cell_type": "code",
   "execution_count": 4,
   "id": "85e8bc21",
   "metadata": {},
   "outputs": [],
   "source": [
    "# assert np.all(distances - distances.T < 1e-6)\n",
    "# reduced_distances = squareform(distances, checks=False)"
   ]
  },
  {
   "cell_type": "code",
   "execution_count": 5,
   "id": "dd31539c",
   "metadata": {},
   "outputs": [],
   "source": [
    "# linkage = scipy.cluster.hierarchy.linkage(reduced_distances, method='average')"
   ]
  },
  {
   "cell_type": "code",
   "execution_count": 6,
   "id": "9a7a2959",
   "metadata": {},
   "outputs": [],
   "source": [
    "# plt.title('RMSD Average linkage hierarchical clustering')\n",
    "# _ = scipy.cluster.hierarchy.dendrogram(linkage, no_labels=True, count_sort='descendent')"
   ]
  },
  {
   "cell_type": "code",
   "execution_count": 7,
   "id": "4de63ded",
   "metadata": {},
   "outputs": [],
   "source": [
    "# multi-pass version for beefier trajectories\n",
    "# mdtraj.org/1.9.4/examples/two-pass-clustering.html\n",
    "from __future__ import print_function\n",
    "import random\n",
    "from collections import defaultdict\n",
    "import mdtraj as md\n",
    "import numpy as np\n",
    "import scipy.cluster.hierarchy"
   ]
  },
  {
   "cell_type": "code",
   "execution_count": 8,
   "id": "4c212aeb",
   "metadata": {},
   "outputs": [],
   "source": [
    "stride = 10\n",
    "subsampled = md.load('ntail.apo.protein.300K.h5', stride=stride)"
   ]
  },
  {
   "cell_type": "code",
   "execution_count": 9,
   "id": "c4130104",
   "metadata": {},
   "outputs": [],
   "source": [
    "distances = np.empty((subsampled.n_frames, subsampled.n_frames))\n",
    "for i in range(subsampled.n_frames):\n",
    "    distances[i] = md.rmsd(subsampled, subsampled, i)"
   ]
  },
  {
   "cell_type": "code",
   "execution_count": null,
   "id": "9d95a46a",
   "metadata": {},
   "outputs": [],
   "source": [
    "n_clusters = 5\n",
    "linkage = scipy.cluster.hierarchy.ward(distances)\n",
    "labels = scipy.cluster.hierarchy.fcluster(linkage, t=n_clusters, criterion='maxclust')"
   ]
  },
  {
   "cell_type": "code",
   "execution_count": null,
   "id": "2d65e5ad",
   "metadata": {
    "scrolled": true
   },
   "outputs": [],
   "source": [
    "mapping = defaultdict(lambda : [])\n",
    "for i, label in enumerate(labels):\n",
    "    mapping[label].append(i)"
   ]
  },
  {
   "cell_type": "code",
   "execution_count": null,
   "id": "1bf1c28b",
   "metadata": {},
   "outputs": [],
   "source": [
    "n_leaders_per_cluster = 2\n",
    "leaders = md.Trajectory(xyz=np.empty((0, subsampled.n_atoms, 3)),\n",
    "                        topology=subsampled.topology,unitcell_lengths=np.empty((0,3)),\n",
    "                        unitcell_angles=np.empty((0,3)))\n",
    "\n",
    "leader_labels = []\n",
    "for label, indices in mapping.items():\n",
    "    leaders = leaders.join(subsampled[np.random.choice(indices, n_leaders_per_cluster)])\n",
    "    leader_labels.extend([label] * n_leaders_per_cluster)\n",
    "\n",
    "print(leader_labels)"
   ]
  },
  {
   "cell_type": "code",
   "execution_count": null,
   "id": "e0439e9a",
   "metadata": {},
   "outputs": [],
   "source": [
    "# assign cluster identity to every frame\n",
    "labels = []\n",
    "for frame in md.iterload('ntail.apo.protein.300K.h5', chunk=1):\n",
    "    labels.append(leader_labels[np.argmin(md.rmsd(leaders, frame, 0))])\n",
    "labels = np.array(labels)\n",
    "\n",
    "# print(labels)\n",
    "# print(labels.shape)"
   ]
  },
  {
   "cell_type": "code",
   "execution_count": null,
   "id": "fe41c726",
   "metadata": {},
   "outputs": [],
   "source": [
    "leaders.save('ntail.protein.leaders.pdb')"
   ]
  },
  {
   "cell_type": "code",
   "execution_count": 13,
   "id": "95abf0f8",
   "metadata": {},
   "outputs": [],
   "source": [
    "# switching to density-based approach\n",
    "# scikit-learn.org/stable/modules/generated/sklearn.cluster.DBSCAN.html\n",
    "from sklearn.cluster import DBSCAN"
   ]
  },
  {
   "cell_type": "code",
   "execution_count": 28,
   "id": "b4fc4cfa",
   "metadata": {},
   "outputs": [
    {
     "name": "stdout",
     "output_type": "stream",
     "text": [
      "Estimated number of clusters: 5\n",
      "Estimated number of noise points: 179\n"
     ]
    }
   ],
   "source": [
    "# eps chosen by trial and error...\n",
    "# distances matrix from above used as X\n",
    "db = DBSCAN(eps=.53,metric='precomputed').fit(distances)\n",
    "labels = db.labels_\n",
    "\n",
    "# Number of clusters in labels, ignoring noise if present.\n",
    "n_clusters_ = len(set(labels)) - (1 if -1 in labels else 0)\n",
    "n_noise_ = list(labels).count(-1)\n",
    "\n",
    "print(\"Estimated number of clusters: %d\" % n_clusters_)\n",
    "print(\"Estimated number of noise points: %d\" % n_noise_)"
   ]
  },
  {
   "cell_type": "code",
   "execution_count": null,
   "id": "fcc655e6",
   "metadata": {},
   "outputs": [],
   "source": []
  }
 ],
 "metadata": {
  "kernelspec": {
   "display_name": "Python 3 (ipykernel)",
   "language": "python",
   "name": "python3"
  },
  "language_info": {
   "codemirror_mode": {
    "name": "ipython",
    "version": 3
   },
   "file_extension": ".py",
   "mimetype": "text/x-python",
   "name": "python",
   "nbconvert_exporter": "python",
   "pygments_lexer": "ipython3",
   "version": "3.7.11"
  }
 },
 "nbformat": 4,
 "nbformat_minor": 5
}
